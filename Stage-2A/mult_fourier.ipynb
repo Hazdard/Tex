{
 "cells": [
  {
   "cell_type": "code",
   "execution_count": 7,
   "id": "8535e9a8",
   "metadata": {},
   "outputs": [
    {
     "name": "stderr",
     "output_type": "stream",
     "text": [
      "/tmp/ipykernel_24949/4117795210.py:5: RuntimeWarning: divide by zero encountered in divide\n",
      "  return np.e * np.exp(-1 / (1 - x**2))\n",
      "No artists with labels found to put in legend.  Note that artists whose label start with an underscore are ignored when legend() is called with no argument.\n"
     ]
    },
    {
     "data": {
      "image/png": "[encoded data removed]",
      "text/plain": [
       "<Figure size 720x432 with 1 Axes>"
      ]
     },
     "metadata": {},
     "output_type": "display_data"
    }
   ],
   "source": [
    "import numpy as np\n",
    "import matplotlib.pyplot as plt\n",
    "\n",
    "def f(x):\n",
    "    return np.e * np.exp(-1 / (1 - x**2))\n",
    "\n",
    "# Define the x ranges\n",
    "x1 = np.linspace(-1, 1, 400)\n",
    "x2 = np.linspace(1, 2, 200)\n",
    "x3 = np.linspace(-2, -1, 200)\n",
    "\n",
    "# Calculate y values\n",
    "y1 = np.ones_like(x1)\n",
    "y2 = f(x2 - 1)\n",
    "y3 = f(x3 + 1)\n",
    "\n",
    "# Create the plot with the specified requirements\n",
    "plt.figure(figsize=(10, 6))\n",
    "\n",
    "# Plotting the functions with blue color\n",
    "plt.plot(x1, y1, color='blue')\n",
    "plt.plot(x2, y2, color='blue')\n",
    "plt.plot(x3, y3, color='blue')\n",
    "\n",
    "# Set plot limits\n",
    "plt.xlim(-5, 5)\n",
    "plt.ylim(0, 3)\n",
    "\n",
    "# Add title\n",
    "plt.title('')\n",
    "\n",
    "# Adding y-axis at x = 0\n",
    "plt.axvline(x=0, color='black', linewidth=1)\n",
    "\n",
    "# Remove the left y-axis\n",
    "plt.gca().spines['left'].set_visible(False)\n",
    "\n",
    "# Remove ticks and labels from axes\n",
    "plt.xticks([])\n",
    "plt.yticks([])\n",
    "\n",
    "# Remove the legend\n",
    "plt.legend().set_visible(False)\n",
    "\n",
    "# Remove axis labels\n",
    "plt.gca().set_xlabel('')\n",
    "plt.gca().set_ylabel('')\n",
    "\n",
    "# Show the plot\n",
    "plt.show()\n"
   ]
  },
  {
   "cell_type": "code",
   "execution_count": 6,
   "id": "535ed2a4",
   "metadata": {},
   "outputs": [
    {
     "name": "stderr",
     "output_type": "stream",
     "text": [
      "/tmp/ipykernel_24949/1686785192.py:5: RuntimeWarning: divide by zero encountered in divide\n",
      "  return np.e * np.exp(-1 / (1 - x**2))\n",
      "No artists with labels found to put in legend.  Note that artists whose label start with an underscore are ignored when legend() is called with no argument.\n"
     ]
    },
    {
     "data": {
      "image/png": "[encoded data removed]",
      "text/plain": [
       "<Figure size 720x432 with 1 Axes>"
      ]
     },
     "metadata": {},
     "output_type": "display_data"
    }
   ],
   "source": [
    "import numpy as np\n",
    "import matplotlib.pyplot as plt\n",
    "\n",
    "def f(x):\n",
    "    return np.e * np.exp(-1 / (1 - x**2))\n",
    "\n",
    "k=4\n",
    "\n",
    "# Define the x ranges\n",
    "x1 = np.linspace(-k+1, k-1, 400)\n",
    "\n",
    "x2 = np.linspace(k-1, k, 200)\n",
    "x3 = np.linspace(k, k+1, 200)\n",
    "\n",
    "x4 = np.linspace(-k-1, -k, 200)\n",
    "x5 = np.linspace(-k, -k+1, 200)\n",
    "\n",
    "# Calculate y values\n",
    "y1 = 0*np.ones_like(x1)\n",
    "y2 = f(x2-k + 1)\n",
    "y3 = f(x3-k - 1)\n",
    "y4 = f(x4 +k + 1)\n",
    "y5 = f(x5 +k- 1)\n",
    "\n",
    "# Create the plot with the specified requirements\n",
    "plt.figure(figsize=(10, 6))\n",
    "\n",
    "# Plotting the functions with blue color\n",
    "plt.plot(x1, y1, color='blue')\n",
    "plt.plot(x2, y3, color='blue')\n",
    "plt.plot(x3, y2, color='blue')\n",
    "plt.plot(x4, y5, color='blue')\n",
    "plt.plot(x5, y4, color='blue')\n",
    "\n",
    "# Set plot limits\n",
    "plt.xlim(-10,10)\n",
    "plt.ylim(0, 3)\n",
    "\n",
    "# Add title\n",
    "plt.title('')\n",
    "\n",
    "# Adding y-axis at x = 0\n",
    "plt.axvline(x=0, color='black', linewidth=1)\n",
    "\n",
    "# Remove the left y-axis\n",
    "plt.gca().spines['left'].set_visible(False)\n",
    "\n",
    "# Remove ticks and labels from axes\n",
    "plt.xticks([])\n",
    "plt.yticks([])\n",
    "\n",
    "# Remove the legend\n",
    "plt.legend().set_visible(False)\n",
    "\n",
    "# Remove axis labels\n",
    "plt.gca().set_xlabel('')\n",
    "plt.gca().set_ylabel('')\n",
    "\n",
    "# Show the plot\n",
    "plt.show()"
   ]
  },
  {
   "cell_type": "code",
   "execution_count": 40,
   "id": "cd4b6f18",
   "metadata": {},
   "outputs": [
    {
     "data": {
      "text/plain": [
       "(array([0.5, 0.2]), array([1., 1.]))"
      ]
     },
     "execution_count": 40,
     "metadata": {},
     "output_type": "execute_result"
    }
   ],
   "source": [
    "x=[1.5,1.2]\n",
    "np.modf(x)"
   ]
  }
 ],
 "metadata": {
  "kernelspec": {
   "display_name": "Python 3 (ipykernel)",
   "language": "python",
   "name": "python3"
  },
  "language_info": {
   "codemirror_mode": {
    "name": "ipython",
    "version": 3
   },
   "file_extension": ".py",
   "mimetype": "text/x-python",
   "name": "python",
   "nbconvert_exporter": "python",
   "pygments_lexer": "ipython3",
   "version": "3.10.12"
  }
 },
 "nbformat": 4,
 "nbformat_minor": 5
}
